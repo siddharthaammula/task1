{
 "cells": [
  {
   "cell_type": "code",
   "execution_count": 38,
   "id": "062f90b3",
   "metadata": {},
   "outputs": [
    {
     "name": "stdout",
     "output_type": "stream",
     "text": [
      "hi i am siddu\n"
     ]
    }
   ],
   "source": [
    "print(\"hi i am siddu\")"
   ]
  },
  {
   "cell_type": "code",
   "execution_count": 3,
   "id": "8e1a8318",
   "metadata": {},
   "outputs": [
    {
     "name": "stdout",
     "output_type": "stream",
     "text": [
      "Hey there,\n",
      "I am full stack developer!\n"
     ]
    }
   ],
   "source": [
    "print( \"Hey there,\")\n",
    "print(\"I am full stack developer!\")\n",
    "      \n"
   ]
  },
  {
   "cell_type": "code",
   "execution_count": null,
   "id": "1341fbd2",
   "metadata": {},
   "outputs": [
    {
     "name": "stdout",
     "output_type": "stream",
     "text": [
      "11\n"
     ]
    }
   ],
   "source": [
    "#2.\n",
    "x = 11\n",
    "print(x)"
   ]
  },
  {
   "cell_type": "code",
   "execution_count": 5,
   "id": "a8c11584",
   "metadata": {},
   "outputs": [],
   "source": [
    "y = \"I am Siddartha \""
   ]
  },
  {
   "cell_type": "code",
   "execution_count": null,
   "id": "f88f70a2",
   "metadata": {},
   "outputs": [
    {
     "name": "stdout",
     "output_type": "stream",
     "text": [
      "(1+1j)\n"
     ]
    }
   ],
   "source": [
    "z = 1+1j\n",
    "print(z)"
   ]
  },
  {
   "cell_type": "code",
   "execution_count": 9,
   "id": "557eb5e1",
   "metadata": {},
   "outputs": [
    {
     "name": "stdout",
     "output_type": "stream",
     "text": [
      "Hello!,I am Siddartha A V \n"
     ]
    }
   ],
   "source": [
    "#3.\n",
    "print(\"Hello!,I am Siddartha A V \")"
   ]
  },
  {
   "cell_type": "code",
   "execution_count": 3,
   "id": "afef0128",
   "metadata": {},
   "outputs": [
    {
     "name": "stdout",
     "output_type": "stream",
     "text": [
      "I have done job as software engineer in AMDOCS and WIPRO for 3 years\n"
     ]
    }
   ],
   "source": [
    "#4.\n",
    "print(\"I have done job as software engineer in AMDOCS and WIPRO for 3 years\")"
   ]
  },
  {
   "cell_type": "code",
   "execution_count": 11,
   "id": "cb7cfd15",
   "metadata": {},
   "outputs": [
    {
     "name": "stdout",
     "output_type": "stream",
     "text": [
      "68\n"
     ]
    }
   ],
   "source": [
    "print(len(\"I have done job as software engineer in AMDOCS and WIPRO for 3 years\"))"
   ]
  },
  {
   "cell_type": "code",
   "execution_count": null,
   "id": "eae9a49f",
   "metadata": {},
   "outputs": [
    {
     "name": "stdout",
     "output_type": "stream",
     "text": [
      "Raja Sekhar \n",
      " pavan Surya\n"
     ]
    }
   ],
   "source": [
    "#5.\n",
    "print(\"Raja Sekhar \\n pavan Surya\")"
   ]
  },
  {
   "cell_type": "code",
   "execution_count": 11,
   "id": "d207a932",
   "metadata": {},
   "outputs": [
    {
     "name": "stdout",
     "output_type": "stream",
     "text": [
      " My First Number is: 10\n",
      " My Second Number is: 20\n",
      " My Third Number is: 30\n"
     ]
    }
   ],
   "source": [
    "#6.\n",
    "x = 10\n",
    "print( \" My First Number is:\", x) \n",
    "y = 20\n",
    "print( \" My Second Number is:\",y)\n",
    "z = 30\n",
    "print( \" My Third Number is:\",z)"
   ]
  },
  {
   "cell_type": "code",
   "execution_count": 19,
   "id": "2d1c3555",
   "metadata": {},
   "outputs": [
    {
     "name": "stdout",
     "output_type": "stream",
     "text": [
      " My Java Marks is 90\n",
      " My Python Marks is 80\n",
      " My Database Marks is 70\n",
      " My Web Deveopment Marks is 60\n",
      " My DotNet Marks is 50\n"
     ]
    }
   ],
   "source": [
    "#7.\n",
    "java = 90\n",
    "print( \" My Java Marks is\",java)\n",
    "python = 80\n",
    "print( \" My Python Marks is\",python)\n",
    "database = 70\n",
    "print(\" My Database Marks is\",database)\n",
    "webdevelopment = 60\n",
    "print( \" My Web Deveopment Marks is\",webdevelopment)\n",
    "dotnet = 50\n",
    "print( \" My DotNet Marks is\",dotnet)\n"
   ]
  },
  {
   "cell_type": "code",
   "execution_count": 23,
   "id": "27d9ef19",
   "metadata": {},
   "outputs": [
    {
     "name": "stdout",
     "output_type": "stream",
     "text": [
      "10\n",
      "20\n",
      "30\n"
     ]
    }
   ],
   "source": [
    "#8.\n",
    "a = 10\n",
    "print (a)\n",
    "b = 20\n",
    "print (b)\n",
    "c = 30\n",
    "print (c)"
   ]
  },
  {
   "cell_type": "code",
   "execution_count": 36,
   "id": "ee454969",
   "metadata": {},
   "outputs": [
    {
     "name": "stdout",
     "output_type": "stream",
     "text": [
      "++++++++\n",
      "@@@@@@@@@\n",
      "****\n",
      "######\n"
     ]
    }
   ],
   "source": [
    "#9.\n",
    "a = (\"++++++++\")\n",
    "print (a)\n",
    "b = (\"@@@@@@@@@\")\n",
    "print (b)\n",
    "c = (\"****\")\n",
    "print(c)\n",
    "d = \"######\"\n",
    "print(d)"
   ]
  },
  {
   "cell_type": "code",
   "execution_count": 43,
   "id": "f69e7832",
   "metadata": {},
   "outputs": [
    {
     "name": "stdout",
     "output_type": "stream",
     "text": [
      " A programming language is a formal set of instructions used to \n",
      " communicate with computers and create software programs.\n",
      " It provides a structured way to\n",
      " write code that a computer can interpret and execute. \n",
      " Programming languages are categorized into high-level languages \n",
      " (closer to human language)\n",
      "and low-level languages (closer to machine code).\n",
      "Programming languages have specific syntax and rules that define how code is \n",
      "written. They include essential components like variables, data types,\n",
      "operators, control structures (e.g., loops, conditionals), \n",
      "and functions. Libraries and frameworks often accompany languages to \n",
      "simplify development by providing pre-written code for common tasks.\n",
      "\n",
      "Programming paradigms, such as procedural, object-oriented, and\n",
      "functional programming, define the style or approach of a language. \n",
      "For example, Python supports multiple paradigms, making it versatile for\n",
      "various applications.\n"
     ]
    }
   ],
   "source": [
    "#10.\n",
    "# What is a programming language\n",
    "print(\"\"\" A programming language is a formal set of instructions used to \n",
    " communicate with computers and create software programs.\n",
    " It provides a structured way to\n",
    " write code that a computer can interpret and execute. \n",
    " Programming languages are categorized into high-level languages \n",
    " (closer to human language)\n",
    "and low-level languages (closer to machine code).\n",
    "Programming languages have specific syntax and rules that define how code is \n",
    "written. They include essential components like variables, data types,\n",
    "operators, control structures (e.g., loops, conditionals), \n",
    "and functions. Libraries and frameworks often accompany languages to \n",
    "simplify development by providing pre-written code for common tasks.\n",
    "\n",
    "Programming paradigms, such as procedural, object-oriented, and\n",
    "functional programming, define the style or approach of a language. \n",
    "For example, Python supports multiple paradigms, making it versatile for\n",
    "various applications.\"\"\")"
   ]
  },
  {
   "cell_type": "code",
   "execution_count": 70,
   "id": "a592781f",
   "metadata": {},
   "outputs": [
    {
     "name": "stdout",
     "output_type": "stream",
     "text": [
      "A computer language is a formal language used to communicate instructions\n",
      " to a computer. \n",
      " These languages are essential for creating software, controlling hardware,\n",
      "and managing data. \n",
      "There are various types of computer languages, each serving different purposes\n",
      " and offering unique features.\n",
      "\n",
      "Types of Computer Languages\n",
      "\n",
      "Machine and Assembly Languages\n",
      "\n",
      "Machine Language: The lowest-level programming language, consisting of binary\n",
      " code (0s and 1s) that the computer's hardware can execute directly. \n",
      " It is specific to each computer architecture and is difficult for humans to \n",
      " read and write.\n",
      "\n",
      "Assembly Language: A step above machine language, using mnemonic codes and\n",
      " labels instead of binary. It is easier to read and write but still requires \n",
      " detailed knowledge of the computer's architecture.\n",
      "\n",
      "High-Level Programming Languages\n",
      "\n",
      "Algorithmic Languages: Designed for mathematical and symbolic computations.\n",
      " Examples include FORTRAN and ALGOL, which allow the use of algebraic operations and subprograms.\n",
      "\n",
      "Business-Oriented Languages: Used for business applications, such as COBOL, which handles large quantities of data and uses an English-like syntax.\n",
      "\n",
      "Education-Oriented Languages: Simplified languages for teaching programming concepts. Examples include BASIC and Pascal.\n",
      "\n",
      "Object-Oriented Languages\n",
      "\n",
      "Object-Oriented Programming (OOP): Languages that manage complexity by packaging data and operations into objects.\n",
      " Examples include C++, Java, and Python\n",
      "1\n",
      ".\n",
      "\n",
      "Scripting Languages\n",
      "\n",
      "Scripting Languages: Used for automating tasks and managing dynamic web content. \n",
      "Examples include Python, PHP, and JavaScript\n",
      "3\n",
      ".\n",
      "\n",
      "Query and Markup Languages\n",
      "\n",
      "Query Languages: Used to make queries in databases, such as SQL\n",
      "2\n",
      ".\n",
      "\n",
      "Markup Languages: Used to annotate documents, such as HTML\n",
      "2\n"
     ]
    }
   ],
   "source": [
    "#11.\n",
    "# What is a Language in computers?\n",
    "print(\"\"\"A computer language is a formal language used to communicate instructions\n",
    " to a computer. \n",
    " These languages are essential for creating software, controlling hardware,\n",
    "and managing data. \n",
    "There are various types of computer languages, each serving different purposes\n",
    " and offering unique features.\n",
    "\n",
    "Types of Computer Languages\n",
    "\n",
    "Machine and Assembly Languages\n",
    "\n",
    "Machine Language: The lowest-level programming language, consisting of binary\n",
    " code (0s and 1s) that the computer's hardware can execute directly. \n",
    " It is specific to each computer architecture and is difficult for humans to \n",
    " read and write.\n",
    "\n",
    "Assembly Language: A step above machine language, using mnemonic codes and\n",
    " labels instead of binary. It is easier to read and write but still requires \n",
    " detailed knowledge of the computer's architecture.\n",
    "\n",
    "High-Level Programming Languages\n",
    "\n",
    "Algorithmic Languages: Designed for mathematical and symbolic computations.\n",
    " Examples include FORTRAN and ALGOL, which allow the use of algebraic operations and subprograms.\n",
    "\n",
    "Business-Oriented Languages: Used for business applications, such as COBOL, which handles large quantities of data and uses an English-like syntax.\n",
    "\n",
    "Education-Oriented Languages: Simplified languages for teaching programming concepts. Examples include BASIC and Pascal.\n",
    "\n",
    "Object-Oriented Languages\n",
    "\n",
    "Object-Oriented Programming (OOP): Languages that manage complexity by packaging data and operations into objects.\n",
    " Examples include C++, Java, and Python\n",
    "1\n",
    ".\n",
    "\n",
    "Scripting Languages\n",
    "\n",
    "Scripting Languages: Used for automating tasks and managing dynamic web content. \n",
    "Examples include Python, PHP, and JavaScript\n",
    "3\n",
    ".\n",
    "\n",
    "Query and Markup Languages\n",
    "\n",
    "Query Languages: Used to make queries in databases, such as SQL\n",
    "2\n",
    ".\n",
    "\n",
    "Markup Languages: Used to annotate documents, such as HTML\n",
    "2\"\"\")\n"
   ]
  },
  {
   "cell_type": "code",
   "execution_count": 62,
   "id": "dcc2056d",
   "metadata": {},
   "outputs": [
    {
     "data": {
      "text/plain": [
       "'There are several type of communications in computer language, including email, \\ntext messaging, instant messaging, and various data transmission methods\\nlike simplex, half-duplex, and full-duplex.\\n1. Types of Computer Communications\\nAccording to various sources, computer communications can be categorized \\ninto several types, including:\\nEmail: A method of exchanging digital messages over the internet, \\nfunctioning similarly to traditional mail but in a digital format. It is \\nonsidered asynchronous communicationsince the sender and receiver \\ndo not need to be online simultaneously. \\n1\\nText Messaging: Similar to email but typically used on mobile devices, \\nallowing users to send short messages to one another. This is also asynchronous. \\n1\\nInstant Messaging: This allows real-time text communication between users. \\nUnlike email and text messaging, instant messaging supports simultaneous\\nconversations, making it a form of synchronous communication. \\n1\\nVoice Over Internet Protocol (VOIP): This technology enables voice communication over the internet, allowing users to talk in real-time without traditional phone lines. \\n1\\n\\n1 Source\\n2. Data Transmission Types\\nIn addition to the types of communication mentioned above, data communication\\ncan be classified based on the direction of data flow:\\nSimplex Communication: This is one-way communication where data flows in only\\none direction. An example is a keyboard sending data to a computer. \\n1\\nHalf-Duplex Communication: In this type, data can flow in both directions, but not simultaneously. An example is a walkie-talkie, where one person speaks while the other listens. \\n1\\nFull-Duplex Communication: This allows data to flow in both directions at \\nthe sametime, such as in a telephone conversation where both parties can speak\\nand listen simultaneously. \\n1\\n\\n1 Source\\n3. Other Communication Types\\nAdditional types of computer communications include:\\nVisual Communication: Involves the use of images, videos, and graphics to convey \\ninformation,such as video conferencing. \\n1\\nHaptic Communication: This involves touch-based communication, often used \\nin devices that provide tactile feedback, such as Braille displays. \\n1\\n\\nThese various types of communications in computer language enable effective \\ninteraction and data exchange between users and devices, facilitating a\\nwide range of applications in digital era.'"
      ]
     },
     "execution_count": 62,
     "metadata": {},
     "output_type": "execute_result"
    }
   ],
   "source": [
    "#12.\n",
    "#how many types of communications are there in computer language?\n",
    "\"\"\"There are several type of communications in computer language, including email, \n",
    "text messaging, instant messaging, and various data transmission methods\n",
    "like simplex, half-duplex, and full-duplex.\n",
    "1. Types of Computer Communications\n",
    "According to various sources, computer communications can be categorized \n",
    "into several types, including:\n",
    "Email: A method of exchanging digital messages over the internet, \n",
    "functioning similarly to traditional mail but in a digital format. It is \n",
    "onsidered asynchronous communicationsince the sender and receiver \n",
    "do not need to be online simultaneously. \n",
    "1\n",
    "Text Messaging: Similar to email but typically used on mobile devices, \n",
    "allowing users to send short messages to one another. This is also asynchronous. \n",
    "1\n",
    "Instant Messaging: This allows real-time text communication between users. \n",
    "Unlike email and text messaging, instant messaging supports simultaneous\n",
    "conversations, making it a form of synchronous communication. \n",
    "1\n",
    "Voice Over Internet Protocol (VOIP): This technology enables voice communication over the internet, allowing users to talk in real-time without traditional phone lines. \n",
    "1\n",
    "\n",
    "1 Source\n",
    "2. Data Transmission Types\n",
    "In addition to the types of communication mentioned above, data communication\n",
    "can be classified based on the direction of data flow:\n",
    "Simplex Communication: This is one-way communication where data flows in only\n",
    "one direction. An example is a keyboard sending data to a computer. \n",
    "1\n",
    "Half-Duplex Communication: In this type, data can flow in both directions, but not simultaneously. An example is a walkie-talkie, where one person speaks while the other listens. \n",
    "1\n",
    "Full-Duplex Communication: This allows data to flow in both directions at \n",
    "the sametime, such as in a telephone conversation where both parties can speak\n",
    "and listen simultaneously. \n",
    "1\n",
    "\n",
    "1 Source\n",
    "3. Other Communication Types\n",
    "Additional types of computer communications include:\n",
    "Visual Communication: Involves the use of images, videos, and graphics to convey \n",
    "information,such as video conferencing. \n",
    "1\n",
    "Haptic Communication: This involves touch-based communication, often used \n",
    "in devices that provide tactile feedback, such as Braille displays. \n",
    "1\n",
    "\n",
    "These various types of communications in computer language enable effective \n",
    "interaction and data exchange between users and devices, facilitating a\n",
    "wide range of applications in digital era.\"\"\"\n",
    "\n",
    "\n",
    "\n",
    "\n",
    "\n",
    "\n",
    "\n",
    "\n",
    "\n",
    "\n",
    "\n",
    "\n",
    "\n",
    "\n",
    "\n",
    "\n",
    "\n",
    "\n",
    "\n",
    "\n",
    "\n",
    "\n",
    "\n",
    "\n",
    "\n",
    "\n",
    "\n",
    "\n",
    "\n",
    "\n",
    "\n",
    "\n",
    "\n",
    "\n",
    "\n",
    "\n",
    "\n",
    "\n",
    "\n",
    "\n",
    "\n",
    "\n",
    "\n"
   ]
  },
  {
   "cell_type": "code",
   "execution_count": 72,
   "id": "86e6691f",
   "metadata": {},
   "outputs": [
    {
     "ename": "SyntaxError",
     "evalue": "invalid syntax (3676954973.py, line 1)",
     "output_type": "error",
     "traceback": [
      "  \u001b[36mCell\u001b[39m\u001b[36m \u001b[39m\u001b[32mIn[72]\u001b[39m\u001b[32m, line 1\u001b[39m\n\u001b[31m    \u001b[39m\u001b[31mgit init https://github.com/siddi2261992/C-Users-DELL-Desktop-vs-code-day01.g\u001b[39m\n        ^\n\u001b[31mSyntaxError\u001b[39m\u001b[31m:\u001b[39m invalid syntax\n"
     ]
    }
   ],
   "source": [
    "git init https://github.com/siddi2261992/C-Users-DELL-Desktop-vs-code-day01.g\n",
    "\n"
   ]
  },
  {
   "cell_type": "code",
   "execution_count": 57,
   "id": "02ef23e9",
   "metadata": {},
   "outputs": [
    {
     "name": "stdout",
     "output_type": "stream",
     "text": [
      "89\n",
      "11\n"
     ]
    }
   ],
   "source": [
    "#14.\n",
    "#a.\n",
    "j = 37\n",
    "k = 52\n",
    "# what is the sum of j and k\n",
    "sum_j_k = j + k\n",
    "print(sum_j_k)\n",
    "# after reassigning values 0f j and k \n",
    "j = 8\n",
    "k = 3 \n",
    "sum_j_k = j + k\n",
    "print(sum_j_k)"
   ]
  },
  {
   "cell_type": "code",
   "execution_count": 69,
   "id": "afa3dc2a",
   "metadata": {},
   "outputs": [
    {
     "data": {
      "text/plain": [
       "int"
      ]
     },
     "execution_count": 69,
     "metadata": {},
     "output_type": "execute_result"
    }
   ],
   "source": [
    "FirstName = \"Raja\"\n",
    "type(FirstName)\n",
    "LastName = \"Shekar\"\n",
    "type(LastName)\n",
    "PhoneNumber = \"6303616638\"\n",
    "type(PhoneNumber)\n",
    "JavaMarks = 70\n",
    "type(JavaMarks)\n",
    "\n"
   ]
  }
 ],
 "metadata": {
  "kernelspec": {
   "display_name": "Python 3",
   "language": "python",
   "name": "python3"
  },
  "language_info": {
   "codemirror_mode": {
    "name": "ipython",
    "version": 3
   },
   "file_extension": ".py",
   "mimetype": "text/x-python",
   "name": "python",
   "nbconvert_exporter": "python",
   "pygments_lexer": "ipython3",
   "version": "3.11.9"
  }
 },
 "nbformat": 4,
 "nbformat_minor": 5
}
